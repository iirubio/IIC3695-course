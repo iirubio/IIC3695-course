{
 "cells": [
  {
   "cell_type": "code",
   "execution_count": 1,
   "metadata": {
    "collapsed": true
   },
   "outputs": [],
   "source": [
    "%matplotlib inline\n",
    "import numpy as np\n",
    "\n",
    "import time\n",
    "#from car_met_hast_STU import car_lik\n",
    "import math\n",
    "from numpy.linalg import inv\n",
    "import matplotlib\n",
    "from scipy.stats import binom\n",
    "from scipy.stats import gamma\n",
    "from scipy.stats import laplace\n",
    "from scipy.optimize import minimize\n",
    "from scipy import integrate\n",
    "from matplotlib import pyplot as plt\n",
    "\n",
    "def create_interval(P,x,w,u):\n",
    "    r = np.random.uniform(0,1,1)[0]\n",
    "    x_l = x - r*w\n",
    "    x_r = x_l + w\n",
    "    \n",
    "    while(P(x_l) > u):\n",
    "        x_l = x_l - w\n",
    "    \n",
    "    while(P(x_r) > u):\n",
    "        x_r = x_r + w\n",
    "    \n",
    "    return x_l, x_r\n",
    "\n",
    "def modify_interval(x,x2,x_L, x_R):\n",
    "    x_l = x_L\n",
    "    x_r = x_R\n",
    "    if(x2 > x):\n",
    "        x_r = x2\n",
    "    else:\n",
    "        x_l = x2\n",
    "    return x_l, x_r"
   ]
  },
  {
   "cell_type": "markdown",
   "metadata": {},
   "source": [
    "Usar dos gaussianas, N1(mu1, sigma2), N2(mu2,sigma2).\n",
    "P(x|N1,N2) = a1*P(x|N1) + a2*P(x|N2) . Con a1 + a2 = 1"
   ]
  },
  {
   "cell_type": "code",
   "execution_count": 2,
   "metadata": {
    "collapsed": true
   },
   "outputs": [],
   "source": [
    "def slice_sampling(P,w,n):\n",
    "    samples = []\n",
    "    x = np.random.uniform(1,3,1)[0] #Inicialmente x_0\n",
    "    samples.append(x)\n",
    "    for i in range(n):\n",
    "        u = np.random.uniform(0,P(x),1)[0]\n",
    "        x_l, x_r = create_interval(P,x,w,u)\n",
    "        \n",
    "        while(True):\n",
    "            x2 = np.random.uniform(x_l,x_r,1)[0]\n",
    "            \n",
    "            if P(x2) > u:\n",
    "                samples.append(x2)\n",
    "                x = x2\n",
    "                break\n",
    "            else:\n",
    "                x_l, x_r = modify_interval(x,x2,x_l,x_r)\n",
    "                \n",
    "    return samples                    "
   ]
  },
  {
   "cell_type": "markdown",
   "metadata": {},
   "source": [
    "Se utiliza dos gaussianas con parámetro definidos."
   ]
  },
  {
   "cell_type": "code",
   "execution_count": 3,
   "metadata": {
    "collapsed": true
   },
   "outputs": [],
   "source": [
    "a1 = 0.3\n",
    "a2 = 0.7\n",
    "sigma1 = 0.5\n",
    "sigma2 = 0.5\n",
    "mu1 = 1\n",
    "mu2 = 3\n",
    "P1 = lambda x: 1/(sigma1 * np.sqrt(2 * np.pi)) *np.exp( - (x - mu1)**2 / (2 * sigma1**2)) \n",
    "P2 = lambda x: 1/(sigma2 * np.sqrt(2 * np.pi)) *np.exp( - (x - mu2)**2 / (2 * sigma2**2)) \n",
    "P = lambda x: a1*P1(x) + a2*P2(x)"
   ]
  },
  {
   "cell_type": "code",
   "execution_count": 4,
   "metadata": {
    "collapsed": false
   },
   "outputs": [],
   "source": [
    "w = 1\n",
    "n = 10000\n",
    "samples = slice_sampling(P,w,n)"
   ]
  },
  {
   "cell_type": "markdown",
   "metadata": {},
   "source": [
    "Visualización de histograma"
   ]
  },
  {
   "cell_type": "code",
   "execution_count": 5,
   "metadata": {
    "collapsed": false
   },
   "outputs": [
    {
     "data": {
      "text/plain": [
       "(array([ 0.        ,  0.        ,  0.        ,  0.0010002 ,  0.        ,\n",
       "         0.0030006 ,  0.0070014 ,  0.0140028 ,  0.0140028 ,  0.0260052 ,\n",
       "         0.0410082 ,  0.040008  ,  0.085017  ,  0.0940188 ,  0.12902581,\n",
       "         0.15603121,  0.16403281,  0.22704541,  0.21604321,  0.24704941,\n",
       "         0.24904981,  0.23204641,  0.20704141,  0.17003401,  0.16103221,\n",
       "         0.13702741,  0.12802561,  0.115023  ,  0.0870174 ,  0.1090218 ,\n",
       "         0.1130226 ,  0.12702541,  0.20004001,  0.26705341,  0.32306461,\n",
       "         0.38707742,  0.42808562,  0.50410082,  0.54910982,  0.54010802,\n",
       "         0.57811562,  0.52910582,  0.47309462,  0.40408082,  0.37507502,\n",
       "         0.31706341,  0.23204641,  0.19403881,  0.14302861,  0.0830166 ,\n",
       "         0.0780156 ,  0.0480096 ,  0.0240048 ,  0.0110022 ,  0.0040008 ,\n",
       "         0.0070014 ,  0.0010002 ,  0.        ,  0.        ]),\n",
       " array([ -1.00000000e+00,  -9.00000000e-01,  -8.00000000e-01,\n",
       "         -7.00000000e-01,  -6.00000000e-01,  -5.00000000e-01,\n",
       "         -4.00000000e-01,  -3.00000000e-01,  -2.00000000e-01,\n",
       "         -1.00000000e-01,  -2.22044605e-16,   1.00000000e-01,\n",
       "          2.00000000e-01,   3.00000000e-01,   4.00000000e-01,\n",
       "          5.00000000e-01,   6.00000000e-01,   7.00000000e-01,\n",
       "          8.00000000e-01,   9.00000000e-01,   1.00000000e+00,\n",
       "          1.10000000e+00,   1.20000000e+00,   1.30000000e+00,\n",
       "          1.40000000e+00,   1.50000000e+00,   1.60000000e+00,\n",
       "          1.70000000e+00,   1.80000000e+00,   1.90000000e+00,\n",
       "          2.00000000e+00,   2.10000000e+00,   2.20000000e+00,\n",
       "          2.30000000e+00,   2.40000000e+00,   2.50000000e+00,\n",
       "          2.60000000e+00,   2.70000000e+00,   2.80000000e+00,\n",
       "          2.90000000e+00,   3.00000000e+00,   3.10000000e+00,\n",
       "          3.20000000e+00,   3.30000000e+00,   3.40000000e+00,\n",
       "          3.50000000e+00,   3.60000000e+00,   3.70000000e+00,\n",
       "          3.80000000e+00,   3.90000000e+00,   4.00000000e+00,\n",
       "          4.10000000e+00,   4.20000000e+00,   4.30000000e+00,\n",
       "          4.40000000e+00,   4.50000000e+00,   4.60000000e+00,\n",
       "          4.70000000e+00,   4.80000000e+00,   4.90000000e+00]),\n",
       " <a list of 59 Patch objects>)"
      ]
     },
     "execution_count": 5,
     "metadata": {},
     "output_type": "execute_result"
    },
    {
     "data": {
      "image/png": "[encoded data removed]",
      "text/plain": [
       "<matplotlib.figure.Figure at 0x1aa419e6b38>"
      ]
     },
     "metadata": {},
     "output_type": "display_data"
    }
   ],
   "source": [
    "x = np.linspace(-1, 5, 10000)\n",
    "plt.plot(x, P(x),'r-', lw=5, alpha=0.9, label='laplace pdf')\n",
    "plt.hist(samples,bins=np.arange(-1,5,0.1),normed=True)"
   ]
  },
  {
   "cell_type": "code",
   "execution_count": 6,
   "metadata": {
    "collapsed": true
   },
   "outputs": [],
   "source": [
    "def slice_sampling_animation(P,w,n):\n",
    "    samples = []\n",
    "    x_graph = np.linspace(-1, 5, 10000)\n",
    "    x = np.random.uniform(1,3,1)[0] #Inicialmente x_0\n",
    "    samples.append(x)\n",
    "    for i in range(n):\n",
    "        u = np.random.uniform(0,P(x),1)[0]\n",
    "        x_l, x_r = create_interval(P,x,w,u)\n",
    "        plt.clf()\n",
    "        plt.plot(x_graph, P(x_graph),'r-', lw=3, alpha=0.9)\n",
    "        plt.plot([x_l,x_r], [u,u],'-')\n",
    "        plt.plot([x,x], [0,P(x)],'-')\n",
    "        plt.pause(1)\n",
    "        while(True):\n",
    "            x2 = np.random.uniform(x_l,x_r,1)[0]\n",
    "            plt.plot([x2,x2], [0,P(x2)],'-')\n",
    "            plt.pause(0.5)\n",
    "            if P(x2) > u:\n",
    "                samples.append(x2)\n",
    "                x = x2\n",
    "                break\n",
    "            else:\n",
    "                x_l, x_r = modify_interval(x,x2,x_l,x_r)\n",
    "                plt.clf()\n",
    "                plt.plot(x_graph, P(x_graph),'r-', lw=3, alpha=0.9)\n",
    "                plt.plot([x_l,x_r], [u,u],'-')\n",
    "                plt.plot([x,x], [0,P(x)],'-')\n",
    "                plt.pause(1)\n",
    "                \n",
    "                \n",
    "    return samples          "
   ]
  },
  {
   "cell_type": "markdown",
   "metadata": {},
   "source": [
    "Línea Azul representa el intervalo x_l,x_r. Línea vertical verde muestra a la ubicación de x_0. La línea vertical roja, representa la muestra x' (x2). Si se acepta la sigueinte línea verde, será la última roja elegida."
   ]
  },
  {
   "cell_type": "code",
   "execution_count": 8,
   "metadata": {
    "collapsed": false
   },
   "outputs": [
    {
     "name": "stderr",
     "output_type": "stream",
     "text": [
      "C:\\Users\\Iván\\Anaconda3\\lib\\site-packages\\matplotlib\\backend_bases.py:2437: MatplotlibDeprecationWarning: Using default event loop until function specific to this GUI is implemented\n",
      "  warnings.warn(str, mplDeprecation)\n"
     ]
    },
    {
     "data": {
      "text/plain": [
       "[2.0009218218522991,\n",
       " 2.8249202852543847,\n",
       " 3.0531431019142028,\n",
       " 3.1741585375918571,\n",
       " 2.6276818026046835,\n",
       " 3.3612207112261308,\n",
       " 3.5278064968807525,\n",
       " 1.0827059561646919,\n",
       " 0.79733519799090935,\n",
       " 2.5967224443030599,\n",
       " 1.1428066113929778,\n",
       " 0.77225533615778708,\n",
       " 1.0731906206161681,\n",
       " 1.2348355081066265,\n",
       " 0.92013335818307374,\n",
       " 3.8777163015864371,\n",
       " 1.1338695801251175,\n",
       " 3.7484775394980012,\n",
       " 3.7223606882623677,\n",
       " 3.1527166186473954,\n",
       " 3.695525698600949]"
      ]
     },
     "execution_count": 8,
     "metadata": {},
     "output_type": "execute_result"
    }
   ],
   "source": [
    "%matplotlib qt\n",
    "N = 20 #Just for animation\n",
    "slice_sampling_animation(P,w,N)\n"
   ]
  },
  {
   "cell_type": "code",
   "execution_count": null,
   "metadata": {
    "collapsed": true
   },
   "outputs": [],
   "source": []
  }
 ],
 "metadata": {
  "kernelspec": {
   "display_name": "Python 3",
   "language": "python",
   "name": "python3"
  },
  "language_info": {
   "codemirror_mode": {
    "name": "ipython",
    "version": 3
   },
   "file_extension": ".py",
   "mimetype": "text/x-python",
   "name": "python",
   "nbconvert_exporter": "python",
   "pygments_lexer": "ipython3",
   "version": "3.5.1"
  }
 },
 "nbformat": 4,
 "nbformat_minor": 0
}
