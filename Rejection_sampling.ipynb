{
 "cells": [
  {
   "cell_type": "code",
   "execution_count": null,
   "metadata": {
    "collapsed": true
   },
   "outputs": [],
   "source": []
  },
  {
   "cell_type": "code",
   "execution_count": 1,
   "metadata": {
    "collapsed": false
   },
   "outputs": [
    {
     "data": {
      "text/plain": [
       "(array([ 0.01152747,  0.03354827,  0.04671817,  0.05368331,  0.06049638,\n",
       "         0.06353793,  0.06095261,  0.06253422,  0.0566032 ,  0.05505201,\n",
       "         0.0505201 ,  0.04845185,  0.0438287 ,  0.04017884,  0.0371373 ,\n",
       "         0.03312245,  0.03017215,  0.02545775,  0.02354158,  0.02116917,\n",
       "         0.01861427,  0.01694142,  0.01423444,  0.01256159,  0.01079749,\n",
       "         0.00976337,  0.00927672,  0.00757345,  0.00596143,  0.00587019,\n",
       "         0.00559645,  0.00441024,  0.00416692,  0.00358903,  0.00331529,\n",
       "         0.00298072,  0.00264615,  0.00212908,  0.00133828]),\n",
       " array([ 0,  1,  2,  3,  4,  5,  6,  7,  8,  9, 10, 11, 12, 13, 14, 15, 16,\n",
       "        17, 18, 19, 20, 21, 22, 23, 24, 25, 26, 27, 28, 29, 30, 31, 32, 33,\n",
       "        34, 35, 36, 37, 38, 39]),\n",
       " <a list of 39 Patch objects>)"
      ]
     },
     "execution_count": 1,
     "metadata": {},
     "output_type": "execute_result"
    },
    {
     "data": {
      "image/png": "[encoded data removed]",
      "text/plain": [
       "<matplotlib.figure.Figure at 0x21cf6547128>"
      ]
     },
     "metadata": {},
     "output_type": "display_data"
    }
   ],
   "source": [
    "%matplotlib inline\n",
    "\n",
    "import numpy as np\n",
    "import math\n",
    "from numpy.linalg import inv\n",
    "import matplotlib\n",
    "from scipy.stats import binom\n",
    "from scipy.stats import gamma\n",
    "from scipy.stats import laplace\n",
    "from scipy import integrate\n",
    "from matplotlib import pyplot as plt\n",
    "\n",
    "\n",
    "a = 2\n",
    "c = 3\n",
    "\n",
    "gamma_d = lambda x: (1/6)**a * x**(a-1) * np.exp(-(1/6)*x) / math.gamma(a)\n",
    "laplace_d = lambda x: x\n",
    "#print(gamma_d(1))\n",
    "\n",
    "x = np.linspace(0.1,40, 100)\n",
    "plt.plot(x, gamma_d(x),'g-', lw=3, alpha=0.6, label='gamma pdf')\n",
    "\n",
    "loc = 10\n",
    "scale = 5.8\n",
    "\n",
    "x = np.linspace(0.1, 40, 100)\n",
    "plt.plot(x, c*laplace.pdf(x,loc,scale),'r-', lw=5, alpha=0.9, label='laplace pdf')\n",
    "\n",
    "def rejection_sampling(p,c):\n",
    "    loc, scale = 10., 5.8\n",
    "    X = []\n",
    "    s = np.random.laplace(loc, scale, 100000)\n",
    "    for i in s:\n",
    "        q_eval = c*laplace.pdf(i,loc,scale)\n",
    "        p_eval = p(i)\n",
    "        s2 = np.random.uniform(0,q_eval)\n",
    "        if s2 <= p_eval:\n",
    "            X.append(i)\n",
    "    return X\n",
    "\n",
    "plt.hist(rejection_sampling(gamma_d,c),bins=np.arange(40),normed=True)\n"
   ]
  },
  {
   "cell_type": "code",
   "execution_count": null,
   "metadata": {
    "collapsed": true
   },
   "outputs": [],
   "source": []
  }
 ],
 "metadata": {
  "kernelspec": {
   "display_name": "Python 3",
   "language": "python",
   "name": "python3"
  },
  "language_info": {
   "codemirror_mode": {
    "name": "ipython",
    "version": 3
   },
   "file_extension": ".py",
   "mimetype": "text/x-python",
   "name": "python",
   "nbconvert_exporter": "python",
   "pygments_lexer": "ipython3",
   "version": "3.5.1"
  }
 },
 "nbformat": 4,
 "nbformat_minor": 0
}
